{
  "nbformat": 4,
  "nbformat_minor": 0,
  "metadata": {
    "colab": {
      "provenance": [],
      "authorship_tag": "ABX9TyPQao8Gt5prSMuPuJaq1rmT",
      "include_colab_link": true
    },
    "kernelspec": {
      "name": "python3",
      "display_name": "Python 3"
    },
    "language_info": {
      "name": "python"
    }
  },
  "cells": [
    {
      "cell_type": "markdown",
      "metadata": {
        "id": "view-in-github",
        "colab_type": "text"
      },
      "source": [
        "<a href=\"https://colab.research.google.com/github/narennravi/Structured_Data-Assignment/blob/master/002.ipynb\" target=\"_parent\"><img src=\"https://colab.research.google.com/assets/colab-badge.svg\" alt=\"Open In Colab\"/></a>"
      ]
    },
    {
      "cell_type": "markdown",
      "source": [
        "### Importing Necessary Lib & modules"
      ],
      "metadata": {
        "id": "-D69K4UiGxRP"
      }
    },
    {
      "cell_type": "code",
      "source": [
        "import pandas as pd\n",
        "import numpy as np\n",
        "import matplotlib.pyplot as plt"
      ],
      "metadata": {
        "id": "441r07edGu_v"
      },
      "execution_count": 1,
      "outputs": []
    },
    {
      "cell_type": "code",
      "source": [
        "!pip install pyarrow"
      ],
      "metadata": {
        "colab": {
          "base_uri": "https://localhost:8080/"
        },
        "id": "0wyn36vTGvCf",
        "outputId": "52efa757-7eec-46eb-c74d-4840ec942d7e"
      },
      "execution_count": 2,
      "outputs": [
        {
          "output_type": "stream",
          "name": "stdout",
          "text": [
            "Looking in indexes: https://pypi.org/simple, https://us-python.pkg.dev/colab-wheels/public/simple/\n",
            "Requirement already satisfied: pyarrow in /usr/local/lib/python3.10/dist-packages (9.0.0)\n",
            "Requirement already satisfied: numpy>=1.16.6 in /usr/local/lib/python3.10/dist-packages (from pyarrow) (1.22.4)\n"
          ]
        }
      ]
    },
    {
      "cell_type": "markdown",
      "source": [
        "### Importing & Exporting data"
      ],
      "metadata": {
        "id": "bzD0Xgl0HOTp"
      }
    },
    {
      "cell_type": "code",
      "source": [
        "data = pd.read_parquet('/content/train.parquet')"
      ],
      "metadata": {
        "id": "ISzsBb4WGvE5"
      },
      "execution_count": 3,
      "outputs": []
    },
    {
      "cell_type": "code",
      "source": [
        "# Filter for \"Target Drug\" incidents only\n",
        "data_target = data[data['Incident'] == 'TARGET DRUG']\n"
      ],
      "metadata": {
        "id": "6mov1SuZGvHB"
      },
      "execution_count": 4,
      "outputs": []
    },
    {
      "cell_type": "code",
      "source": [
        "# Extract the month from the date column\n",
        "data_target['Month'] = pd.to_datetime(data_target['Date']).dt.to_period('M')\n",
        "data_target['Month']\n"
      ],
      "metadata": {
        "colab": {
          "base_uri": "https://localhost:8080/"
        },
        "id": "ikywaJlrGvIy",
        "outputId": "ba34c058-fe00-4e02-f30b-16c32118b461"
      },
      "execution_count": 5,
      "outputs": [
        {
          "output_type": "stream",
          "name": "stderr",
          "text": [
            "<ipython-input-5-14e9d6666b3c>:2: SettingWithCopyWarning: \n",
            "A value is trying to be set on a copy of a slice from a DataFrame.\n",
            "Try using .loc[row_indexer,col_indexer] = value instead\n",
            "\n",
            "See the caveats in the documentation: https://pandas.pydata.org/pandas-docs/stable/user_guide/indexing.html#returning-a-view-versus-a-copy\n",
            "  data_target['Month'] = pd.to_datetime(data_target['Date']).dt.to_period('M')\n"
          ]
        },
        {
          "output_type": "execute_result",
          "data": {
            "text/plain": [
              "3294791     2020-04\n",
              "3296990     2018-06\n",
              "3305387     2019-06\n",
              "3309423     2019-11\n",
              "3309494     2020-03\n",
              "             ...   \n",
              "29074998    2018-10\n",
              "29075105    2019-07\n",
              "29075494    2019-05\n",
              "29080031    2018-06\n",
              "29080178    2018-07\n",
              "Name: Month, Length: 67218, dtype: period[M]"
            ]
          },
          "metadata": {},
          "execution_count": 5
        }
      ]
    },
    {
      "cell_type": "code",
      "source": [
        "# Get the number of patients who started taking the drug each month\n",
        "monthly_starts = data_target.groupby('Month')['Patient-Uid'].nunique()\n",
        "\n",
        "# Get the number of patients who stopped taking the drug each month\n",
        "monthly_stops = monthly_starts.diff().fillna(monthly_starts.iloc[0])\n",
        "\n",
        "# Print the results\n",
        "print(\"Number of patients who started taking the drug each month:\\n\", monthly_starts)\n",
        "print(\"\\nNumber of patients who stopped taking the drug each month:\\n\", monthly_stops)"
      ],
      "metadata": {
        "colab": {
          "base_uri": "https://localhost:8080/"
        },
        "id": "oDbXthCeGvKu",
        "outputId": "44b7e6c8-69b1-4f76-ed67-cbd8f47756ed"
      },
      "execution_count": 6,
      "outputs": [
        {
          "output_type": "stream",
          "name": "stdout",
          "text": [
            "Number of patients who started taking the drug each month:\n",
            " Month\n",
            "2017-02       1\n",
            "2017-03       2\n",
            "2017-04       1\n",
            "2017-05       5\n",
            "2017-06      11\n",
            "2017-07       6\n",
            "2017-08      10\n",
            "2017-09       6\n",
            "2017-10       6\n",
            "2017-11       6\n",
            "2017-12      14\n",
            "2018-01      15\n",
            "2018-02      19\n",
            "2018-03     472\n",
            "2018-04     732\n",
            "2018-05    1042\n",
            "2018-06    1217\n",
            "2018-07    1244\n",
            "2018-08    1522\n",
            "2018-09    1397\n",
            "2018-10    1620\n",
            "2018-11    1661\n",
            "2018-12    1623\n",
            "2019-01    1907\n",
            "2019-02    1596\n",
            "2019-03    1781\n",
            "2019-04    1869\n",
            "2019-05    2207\n",
            "2019-06    2089\n",
            "2019-07    2253\n",
            "2019-08    2457\n",
            "2019-09    2152\n",
            "2019-10    2627\n",
            "2019-11    2383\n",
            "2019-12    2502\n",
            "2020-01    2558\n",
            "2020-02    2517\n",
            "2020-03    2372\n",
            "2020-04    2652\n",
            "2020-05    2728\n",
            "2020-06    2674\n",
            "2020-07    2946\n",
            "2020-08    2383\n",
            "2020-09     384\n",
            "Freq: M, Name: Patient-Uid, dtype: int64\n",
            "\n",
            "Number of patients who stopped taking the drug each month:\n",
            " Month\n",
            "2017-02       1.0\n",
            "2017-03       1.0\n",
            "2017-04      -1.0\n",
            "2017-05       4.0\n",
            "2017-06       6.0\n",
            "2017-07      -5.0\n",
            "2017-08       4.0\n",
            "2017-09      -4.0\n",
            "2017-10       0.0\n",
            "2017-11       0.0\n",
            "2017-12       8.0\n",
            "2018-01       1.0\n",
            "2018-02       4.0\n",
            "2018-03     453.0\n",
            "2018-04     260.0\n",
            "2018-05     310.0\n",
            "2018-06     175.0\n",
            "2018-07      27.0\n",
            "2018-08     278.0\n",
            "2018-09    -125.0\n",
            "2018-10     223.0\n",
            "2018-11      41.0\n",
            "2018-12     -38.0\n",
            "2019-01     284.0\n",
            "2019-02    -311.0\n",
            "2019-03     185.0\n",
            "2019-04      88.0\n",
            "2019-05     338.0\n",
            "2019-06    -118.0\n",
            "2019-07     164.0\n",
            "2019-08     204.0\n",
            "2019-09    -305.0\n",
            "2019-10     475.0\n",
            "2019-11    -244.0\n",
            "2019-12     119.0\n",
            "2020-01      56.0\n",
            "2020-02     -41.0\n",
            "2020-03    -145.0\n",
            "2020-04     280.0\n",
            "2020-05      76.0\n",
            "2020-06     -54.0\n",
            "2020-07     272.0\n",
            "2020-08    -563.0\n",
            "2020-09   -1999.0\n",
            "Freq: M, Name: Patient-Uid, dtype: float64\n"
          ]
        }
      ]
    },
    {
      "cell_type": "code",
      "source": [
        "dropoff_rate = monthly_stops/5"
      ],
      "metadata": {
        "id": "WBYJyScsW59I"
      },
      "execution_count": 7,
      "outputs": []
    },
    {
      "cell_type": "code",
      "source": [
        "# convert Period data type to datetime data type\n",
        "dropoff_rate.index = dropoff_rate.index.to_timestamp()\n",
        "\n",
        "# plot the drop-off rate as a line graph\n",
        "plt.plot(dropoff_rate)\n",
        "plt.axhline(y=0, color='black', linestyle='--')\n",
        "plt.xlabel('Month')\n",
        "plt.ylabel('Drop-off rate (%)')\n",
        "plt.title('Monthly drop-off rate for Target Drug')\n",
        "plt.show()"
      ],
      "metadata": {
        "colab": {
          "base_uri": "https://localhost:8080/",
          "height": 472
        },
        "id": "uGHWVo2rGvM6",
        "outputId": "02ce2cf1-0c70-460f-9da1-ed4bbc1d998a"
      },
      "execution_count": 8,
      "outputs": [
        {
          "output_type": "display_data",
          "data": {
            "text/plain": [
              "<Figure size 640x480 with 1 Axes>"
            ],
            "image/png": "[encoded data removed]"
          },
          "metadata": {}
        }
      ]
    },
    {
      "cell_type": "code",
      "source": [],
      "metadata": {
        "id": "M1KRLFYWGvO6"
      },
      "execution_count": 8,
      "outputs": []
    }
  ]
}